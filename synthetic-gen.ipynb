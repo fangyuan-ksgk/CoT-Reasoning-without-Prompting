{
 "cells": [
  {
   "cell_type": "markdown",
   "metadata": {},
   "source": [
    "If your generator config is fixed, you essentialy have a fixed generation result, which is why the stanford paper needs to come up with all the tags, categories and etc. That is actually a good idea here. \n",
    "\n",
    "What I need to build here, is actually a data augmentation pipeline, where I generate new data out of existing data here. "
   ]
  },
  {
   "cell_type": "code",
   "execution_count": 1,
   "metadata": {},
   "outputs": [],
   "source": [
    "from generator import simulate_conversation, collect_ideas, generate_revision_ideas\n",
    "conversation_seed = simulate_conversation()"
   ]
  },
  {
   "cell_type": "code",
   "execution_count": 2,
   "metadata": {},
   "outputs": [],
   "source": [
    "from rewriter import IterativeSyntheticRewritter\n",
    "positive_revision_goal = \"make the customer appears more rude\"\n",
    "negative_revision_goal = \"make the customer appears more polite\"\n",
    "rewritter = IterativeSyntheticRewritter(conversation_seed, positive_revision_goal, negative_revision_goal, 4)"
   ]
  },
  {
   "cell_type": "code",
   "execution_count": 3,
   "metadata": {},
   "outputs": [
    {
     "name": "stdout",
     "output_type": "stream",
     "text": [
      "Starting a new iteration...\n",
      "Selected positive seed: ['Sales: Hello! How can I assist you with your life insurance needs today?', \"Customer: Hi, I'm interested in getting a life insurance quote. Can you help me with that?\", 'Sales: Of course! I would be happy to provide you with a life insurance quote. Can you please provide me with some basic information such as your age, gender, and any specific coverage amounts you are considering?', \"Customer: Sure, I'm 35 years old, male, and looking for coverage of around $500,000.\", 'Sales: Great! With that information, I can certainly help you with a life insurance quote. Let me gather some more details from you to provide you with an accurate estimate.']\n",
      "Selected negative seed: ['Sales: Hello! How can I assist you with your life insurance needs today?', \"Customer: Hi, I'm interested in getting a life insurance quote. Can you help me with that?\", 'Sales: Of course! I would be happy to provide you with a life insurance quote. Can you please provide me with some basic information such as your age, gender, and any specific coverage amounts you are considering?', \"Customer: Sure, I'm 35 years old, male, and looking for coverage of around $500,000.\", 'Sales: Great! With that information, I can certainly help you with a life insurance quote. Let me gather some more details from you to provide you with an accurate estimate.']\n",
      "Generating revision ideas for make the customer appears more rude...\n"
     ]
    }
   ],
   "source": [
    "rewritter.single_iteration()"
   ]
  },
  {
   "cell_type": "code",
   "execution_count": null,
   "metadata": {},
   "outputs": [],
   "source": []
  }
 ],
 "metadata": {
  "kernelspec": {
   "display_name": "base",
   "language": "python",
   "name": "python3"
  },
  "language_info": {
   "codemirror_mode": {
    "name": "ipython",
    "version": 3
   },
   "file_extension": ".py",
   "mimetype": "text/x-python",
   "name": "python",
   "nbconvert_exporter": "python",
   "pygments_lexer": "ipython3",
   "version": "3.11.5"
  }
 },
 "nbformat": 4,
 "nbformat_minor": 2
}
