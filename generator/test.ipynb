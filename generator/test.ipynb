{
 "cells": [
  {
   "cell_type": "code",
   "execution_count": 28,
   "metadata": {},
   "outputs": [],
   "source": [
    "# I need to learn this thing....\n",
    "from typing import Dict, TypedDict, Optional\n",
    "\n",
    "class GraphState(TypedDict):\n",
    "    question: Optional[str] = None\n",
    "    classification: Optional[str] = None\n",
    "    response: Optional[str] = None\n",
    "\n",
    "from langgraph.graph import StateGraph, END\n",
    "workflow = StateGraph(GraphState) # Ok, so stategraph's state is TypedDict and everything can be configured different, no limitation in that, good\n"
   ]
  },
  {
   "cell_type": "code",
   "execution_count": 29,
   "metadata": {},
   "outputs": [],
   "source": [
    "def classify(str):\n",
    "    return 'shit'\n",
    "\n",
    "def classify_input_node(state):\n",
    "    question = state.get('question', '').strip() # what does .strip do again? \n",
    "    classification = classify(question)\n",
    "    return {\"classification\": classification}\n",
    "\n",
    "def handle_greeting_node(state):\n",
    "    return {\"response\": \"Hello! How can I help you today?\"}\n",
    "\n",
    "def handle_search_node(state):\n",
    "    question = state.get('question', '').strip()\n",
    "    search_result = f\"Search result for '{question}'\"\n",
    "    return {\"response\": search_result}"
   ]
  },
  {
   "cell_type": "code",
   "execution_count": 30,
   "metadata": {},
   "outputs": [],
   "source": [
    "# Alright, so it appears that the State here is passed on many many time, and everybody is somehow manipulating on the same State here. \n",
    "# Node and edges probbaly has the relationship between a computation unit, and some router unit which direct the current computation result to the next computation unit. \n",
    "# But the point seems to be that the computation node should return only attribute existing in the state itself. \n",
    "workflow.add_node(\"classify_input\", classify_input_node)\n",
    "workflow.add_node(\"handle_greeting\", handle_greeting_node)\n",
    "workflow.add_node(\"handle_search\", handle_search_node)\n"
   ]
  },
  {
   "cell_type": "code",
   "execution_count": 31,
   "metadata": {},
   "outputs": [],
   "source": [
    "def decide_next_node(state):\n",
    "    # return \"handle_greeting\" if state.get('classification') == \"greeting\" else \"handle_search\"\n",
    "    return \"hg\" if state.get('classification') == \"greeting\" else \"hs\"\n",
    "\n",
    "\n",
    "workflow.add_conditional_edges(\n",
    "    \"classify_input\",\n",
    "    decide_next_node,\n",
    "    {\n",
    "        \"hg\": \"handle_greeting\",\n",
    "        \"hs\": \"handle_search\"\n",
    "    } # I imagine this one is not redundant only if the output of the decide_next_node function returns some value that is not a state attribute\n",
    ")"
   ]
  },
  {
   "cell_type": "code",
   "execution_count": 32,
   "metadata": {},
   "outputs": [],
   "source": [
    "workflow.set_entry_point(\"classify_input\")\n",
    "workflow.add_edge('handle_greeting', END)\n",
    "workflow.add_edge('handle_search', END)\n",
    "app = workflow.compile()"
   ]
  },
  {
   "cell_type": "code",
   "execution_count": 33,
   "metadata": {},
   "outputs": [
    {
     "data": {
      "text/plain": [
       "{'question': 'Hello how are you?',\n",
       " 'classification': 'shit',\n",
       " 'response': \"Search result for 'Hello how are you?'\"}"
      ]
     },
     "execution_count": 33,
     "metadata": {},
     "output_type": "execute_result"
    }
   ],
   "source": [
    "from langchain_core.messages import HumanMessage\n",
    "# inputs = {\"messages\": [HumanMessage(content=\"what is the weather in sf\")]}\n",
    "inputs = {\"question\": \"Hello how are you?\"}\n",
    "app.invoke(inputs)"
   ]
  },
  {
   "cell_type": "code",
   "execution_count": null,
   "metadata": {},
   "outputs": [],
   "source": []
  }
 ],
 "metadata": {
  "kernelspec": {
   "display_name": "base",
   "language": "python",
   "name": "python3"
  },
  "language_info": {
   "codemirror_mode": {
    "name": "ipython",
    "version": 3
   },
   "file_extension": ".py",
   "mimetype": "text/x-python",
   "name": "python",
   "nbconvert_exporter": "python",
   "pygments_lexer": "ipython3",
   "version": "3.11.5"
  }
 },
 "nbformat": 4,
 "nbformat_minor": 2
}
